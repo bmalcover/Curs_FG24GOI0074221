{
 "cells": [
  {
   "attachments": {},
   "cell_type": "markdown",
   "metadata": {},
   "source": [
    "<div align=\"center\">\n",
    "\n",
    "[![Open In Colab](https://colab.research.google.com/assets/colab-badge.png)](https://colab.research.google.com/github/wisaaco/Curs_FG24GOI0074221/blob/main/lessons/4_Pandas_Estructura.ipynb)\n",
    "\n",
    "Si no funciona el botó podeu copiar el següent [enllaç](https://colab.research.google.com/github/wisaaco/Curs_FG24GOI0074221/blob/main/lessons/4_Pandas_Estructura.ipynb)\n",
    "</div>"
   ]
  },
  {
   "cell_type": "markdown",
   "metadata": {
    "collapsed": false
   },
   "source": [
    "# Unitat 4: 4.B Estructura del dataframe\n",
    "\n",
    "Ara que ja sabem carregar dataframes de fitxers, descobrirem com podem accedir a l'informació que es troba dins dels tipus de variable fet servir per Pandas.\n",
    "\n",
    "Un dataframe té columnes i files. Les files són mostres i les columnes representen característiques d'una mostra. Una columna és del tipus Sèrie.\n",
    "\n",
    "**L'objectiu d'aquesta unitat és adquirir eines per entendre i seleccionar les dades representades a un dataframe i a una sèrie amb Pandas.**\n",
    "\n",
    "\n",
    "Començarem seleccionant columnes i obtenint resums estadístics d'elles. Més endavant passarem a fer seleccions de files del dataframe. Finalment, realitzarem seleccions combinades creant els nostres propis dataframes a partir dels subconjunts seleccionats."
   ]
  },
  {
   "cell_type": "code",
   "execution_count": 1,
   "metadata": {
    "collapsed": false
   },
   "outputs": [],
   "source": [
    "import pandas as pd\n",
    "\n",
    "df_who = pd.read_csv(\"http://www.exploredata.net/ftp/WHO.csv\") #dataframe"
   ]
  },
  {
   "cell_type": "code",
   "execution_count": null,
   "metadata": {},
   "outputs": [],
   "source": [
    "df_who.info()"
   ]
  },
  {
   "cell_type": "code",
   "execution_count": null,
   "metadata": {},
   "outputs": [],
   "source": [
    "df_who.describe()"
   ]
  },
  {
   "attachments": {},
   "cell_type": "markdown",
   "metadata": {},
   "source": [
    "## Columnes\n",
    "\n",
    "Com hem comentat a l'introducció, començarem amb les columnes"
   ]
  },
  {
   "cell_type": "code",
   "execution_count": null,
   "metadata": {},
   "outputs": [],
   "source": [
    "# Columnes o caracteristiques de cada mostra\n",
    "print(df_who.columns)"
   ]
  },
  {
   "cell_type": "code",
   "execution_count": null,
   "metadata": {},
   "outputs": [],
   "source": [
    "for col in df_who.columns: #label\n",
    "    print(col)"
   ]
  },
  {
   "cell_type": "markdown",
   "metadata": {},
   "source": [
    "Access als valors d'una columna: sèrie"
   ]
  },
  {
   "cell_type": "code",
   "execution_count": null,
   "metadata": {},
   "outputs": [],
   "source": [
    "df_who[\"Country\"] "
   ]
  },
  {
   "cell_type": "code",
   "execution_count": null,
   "metadata": {},
   "outputs": [],
   "source": [
    "type(df_who[\"Country\"])"
   ]
  },
  {
   "cell_type": "markdown",
   "metadata": {
    "collapsed": false
   },
   "source": [
    "Un cop seleccionam una columna podem accedir als seus elements com si fossin una llista:"
   ]
  },
  {
   "cell_type": "code",
   "execution_count": null,
   "metadata": {},
   "outputs": [],
   "source": [
    "print(df_who[\"Country\"][0])\n",
    "print(\"-\"*30)\n",
    "print(df_who[\"Country\"][:5]) # slicing\n",
    "print(\"-\"*30)\n",
    "print(df_who[\"Country\"].values)"
   ]
  },
  {
   "cell_type": "markdown",
   "metadata": {
    "collapsed": false
   },
   "source": [
    " Existeix una altra manera més simple de seleccionar una única columna pero hi ha noms de columnes molt llargues: \"Children aged &lt;5 years who received any antimalarial treatment for fever (%)\"\n",
    "\n",
    "**Nota**: En la creació de documents és important un adequat nom de columnes"
   ]
  },
  {
   "cell_type": "code",
   "execution_count": null,
   "metadata": {},
   "outputs": [],
   "source": [
    "df_who.Country"
   ]
  },
  {
   "cell_type": "code",
   "execution_count": null,
   "metadata": {
    "pycharm": {
     "is_executing": true
    }
   },
   "outputs": [],
   "source": [
    "print(df_who.columns[9])\n",
    "print(\"-\"*30)\n",
    "print(df_who[df_who.columns[9]])\n"
   ]
  },
  {
   "cell_type": "code",
   "execution_count": null,
   "metadata": {},
   "outputs": [],
   "source": [
    "# Podem agafar multiples columnes\n",
    "df_who[df_who.columns[0:5]]\n"
   ]
  },
  {
   "cell_type": "code",
   "execution_count": null,
   "metadata": {},
   "outputs": [],
   "source": [
    "df_who[[\"CountryID\",\"Continent\"]]"
   ]
  },
  {
   "cell_type": "code",
   "execution_count": null,
   "metadata": {},
   "outputs": [],
   "source": [
    "# Podem accedir a les columnes amb la seva posició en lloc del nom\n",
    "# funció: .iloc(files, columnes)\n",
    "df_who.iloc[:,3:5]"
   ]
  },
  {
   "cell_type": "code",
   "execution_count": null,
   "metadata": {},
   "outputs": [],
   "source": [
    "# o a un subconjunt específic\n",
    "df_who.iloc[:,[3,5,9]]"
   ]
  },
  {
   "cell_type": "markdown",
   "metadata": {
    "collapsed": false
   },
   "source": [
    "### Sèries i mètodes estadístics\n",
    "\n",
    "En seleccionar una columna d'un dataframe obtenim una sèrie. Les sèries tenem certes característiques com l'aplicació de mètodes estadístics (sí és una sèrie numèrica).\n"
   ]
  },
  {
   "cell_type": "code",
   "execution_count": null,
   "metadata": {
    "collapsed": false
   },
   "outputs": [],
   "source": [
    "fertilitat = df_who[df_who.columns[3]]\n",
    "print(\"Min \", fertilitat.min()) # a Pandas el concepte d'iterar \"no té sentit\"\n",
    "print(\"Max \", fertilitat.max())\n",
    "print(\"Mean \", fertilitat.mean())"
   ]
  },
  {
   "cell_type": "markdown",
   "metadata": {
    "collapsed": false
   },
   "source": [
    "A continuació trobareu la taula que mostra les funcions descriptives que tenim disponibles:\n",
    "<img src=\"https://i.imgur.com/OYnOFwL.png\">\n",
    "\n",
    "Veurem que obtenir aquestes informacions estadístiques ens pot ajudar a extreure informació molt concreta de la taula, per exemple, si volem saber:\n",
    "\n",
    "**¿Quin pais té la major emissió de CO2 ?**"
   ]
  },
  {
   "cell_type": "code",
   "execution_count": null,
   "metadata": {
    "collapsed": false
   },
   "outputs": [],
   "source": [
    "co2 = df_who[\"Total_CO2_emissions\"]\n",
    "row = df_who[co2 == co2.max()]  # Selecció condicionada *\n",
    "type(row)"
   ]
  },
  {
   "cell_type": "markdown",
   "metadata": {
    "collapsed": false
   },
   "source": [
    "La variable row conté la fila amb el valor màxim a la columna \"Total_CO2_emissions\""
   ]
  },
  {
   "cell_type": "code",
   "execution_count": null,
   "metadata": {
    "collapsed": false
   },
   "outputs": [],
   "source": [
    "print(row[\"Country\"])"
   ]
  },
  {
   "cell_type": "code",
   "execution_count": null,
   "metadata": {
    "collapsed": false
   },
   "outputs": [],
   "source": [
    "row[\"Country\"].values"
   ]
  },
  {
   "cell_type": "code",
   "execution_count": null,
   "metadata": {
    "collapsed": false
   },
   "outputs": [],
   "source": [
    "print(\"El pais mas contaminante es: \", row[\"Country\"].values[0])"
   ]
  },
  {
   "cell_type": "markdown",
   "metadata": {},
   "source": [
    "Podem fer seleccions aleatories d'una serie"
   ]
  },
  {
   "cell_type": "code",
   "execution_count": null,
   "metadata": {},
   "outputs": [],
   "source": [
    "fertilitat = df_who[df_who.columns[3]]\n",
    "some = fertilitat.sample(n=3)\n",
    "print(some)\n",
    "fertilitat.sample(n=3,random_state=2023) #on random_state és la llavor/seed del aleatori"
   ]
  },
  {
   "attachments": {},
   "cell_type": "markdown",
   "metadata": {},
   "source": [
    "## Files\n",
    "\n",
    "Cada fila té un índex. L'índex pot ser numèric, alfabètic o de temps."
   ]
  },
  {
   "cell_type": "code",
   "execution_count": null,
   "metadata": {},
   "outputs": [],
   "source": [
    "df_who.index"
   ]
  },
  {
   "cell_type": "code",
   "execution_count": null,
   "metadata": {},
   "outputs": [],
   "source": [
    "df_who.index.values"
   ]
  },
  {
   "cell_type": "markdown",
   "metadata": {
    "collapsed": false
   },
   "source": [
    "Emprant el tribut  `loc` del dataframe podem accedir a les seves files amb la mateixa lògica que empram a les llistes:"
   ]
  },
  {
   "cell_type": "code",
   "execution_count": null,
   "metadata": {},
   "outputs": [],
   "source": [
    "df_who.loc[0] #la mostra zero, primera fila"
   ]
  },
  {
   "cell_type": "code",
   "execution_count": null,
   "metadata": {},
   "outputs": [],
   "source": [
    "type(df_who.loc[0]) # una fila també és una sèrie"
   ]
  },
  {
   "cell_type": "code",
   "execution_count": null,
   "metadata": {},
   "outputs": [],
   "source": [
    "print(df_who.loc[0].Country) # Podem accedir a una sèrie amb el seu índex\n",
    "print(df_who.loc[0][0]) #o amb la seva posició\n",
    "print(df_who.loc[0][3])"
   ]
  },
  {
   "cell_type": "markdown",
   "metadata": {
    "collapsed": false
   },
   "source": [
    "Com passava amb les llistes també podem seleccionar diversos elements (files) en una sola comanda usant la tècnica de _slicing_."
   ]
  },
  {
   "cell_type": "code",
   "execution_count": null,
   "metadata": {},
   "outputs": [],
   "source": [
    "df_who.loc[166:170] #slicing"
   ]
  },
  {
   "cell_type": "code",
   "execution_count": null,
   "metadata": {},
   "outputs": [],
   "source": [
    "# Els índexs són útils quan són dates: Sèries temporals\n",
    "# per exemple:\n",
    "# df.loc[\"2020\":\"2022\"]"
   ]
  },
  {
   "cell_type": "markdown",
   "metadata": {},
   "source": [
    "L'índex pot canviar-se per qualsevol altre valor (i idealment únic)"
   ]
  },
  {
   "cell_type": "code",
   "execution_count": null,
   "metadata": {},
   "outputs": [],
   "source": [
    "df_who.set_index(\"Country\",inplace=True)"
   ]
  },
  {
   "cell_type": "code",
   "execution_count": null,
   "metadata": {},
   "outputs": [],
   "source": [
    "print(df_who.index)\n",
    "print(\"-\"*30)\n",
    "df_who.loc[\"Albania\"]          # l'accés per LOC ja no és numèric\n",
    "   "
   ]
  },
  {
   "cell_type": "markdown",
   "metadata": {
    "collapsed": false
   },
   "source": [
    "### Selecció condicional\n",
    "\n",
    "Si volem que la nostra selecció es correspongui amb un criteri lògic, per exemple saber quins són els països amb una taxa d'alfabetització dels adults amb més d'un 70% podem fer el següent:"
   ]
  },
  {
   "cell_type": "code",
   "execution_count": null,
   "metadata": {},
   "outputs": [],
   "source": [
    "df_who = pd.read_csv(\"http://www.exploredata.net/ftp/WHO.csv\") #dataframe"
   ]
  },
  {
   "cell_type": "code",
   "execution_count": null,
   "metadata": {
    "collapsed": false
   },
   "outputs": [],
   "source": [
    "alfabetitzacio = df_who[df_who['Adult literacy rate (%)'] > 70][[\"Country\",\"Adult literacy rate (%)\"]]\n",
    "\n",
    "alfabetitzacio[alfabetitzacio[\"Country\"] == \"Italy\"]"
   ]
  },
  {
   "cell_type": "markdown",
   "metadata": {
    "collapsed": false
   },
   "source": [
    "L'estructura d'aquest tipus de selecció sembla complexa, però si la dividim en parts veurem que és abordable:"
   ]
  },
  {
   "cell_type": "code",
   "execution_count": null,
   "metadata": {
    "collapsed": false
   },
   "outputs": [],
   "source": [
    "# En aquest codi obtenim una llista de valors booleans (True o False) segons és compleix la condició per cada una de les files:\n",
    "seleccio = df_who['Adult literacy rate (%)'] > 70"
   ]
  },
  {
   "cell_type": "code",
   "execution_count": null,
   "metadata": {
    "collapsed": false
   },
   "outputs": [],
   "source": [
    "# En aquest codi, de les files on seleccio == True agafam les dues columnes que ens interessen\n",
    "df_who[seleccio][[\"Country\",\"Adult literacy rate (%)\"]]"
   ]
  },
  {
   "cell_type": "code",
   "execution_count": 3,
   "metadata": {},
   "outputs": [
    {
     "data": {
      "text/plain": [
       "(array([92]),)"
      ]
     },
     "execution_count": 3,
     "metadata": {},
     "output_type": "execute_result"
    }
   ],
   "source": [
    "# Multiples criteris\n",
    "# CO_emisions i Fertilitat\n",
    "import numpy as np\n",
    "ix = np.where((df_who[\"Total_CO2_emissions\"] > 10) & (df_who[df_who.columns[3]] <=0.6))\n",
    "ix"
   ]
  },
  {
   "cell_type": "markdown",
   "metadata": {},
   "source": [
    "I una mostra aleatoria:"
   ]
  },
  {
   "cell_type": "code",
   "execution_count": null,
   "metadata": {},
   "outputs": [],
   "source": [
    "import numpy as np\n",
    "random_sample = np.random.randint(0,2,df_who.shape[0]).astype('bool')\n",
    "print(random_sample)\n",
    "print(len(random_sample))"
   ]
  },
  {
   "cell_type": "code",
   "execution_count": null,
   "metadata": {},
   "outputs": [],
   "source": [
    "df_who[random_sample]"
   ]
  },
  {
   "cell_type": "code",
   "execution_count": null,
   "metadata": {},
   "outputs": [],
   "source": [
    "df_who.sample(3) #Nota: hi ha altres mètodes més efectius per fer aquesta funció de sampling"
   ]
  },
  {
   "cell_type": "markdown",
   "metadata": {
    "collapsed": false
   },
   "source": [
    "Aquest tipus de selecció ens obre tot un nou ventall de possibilitats de selecció \"automàtica\" de dades que fins ara es feia molt complicat.\n",
    "\n"
   ]
  },
  {
   "cell_type": "markdown",
   "metadata": {
    "collapsed": false
   },
   "source": [
    "## Files i columnes\n",
    "\n",
    "Obviament, si sabem seleccionar files i columnes, podem combinar-les per fer una selecció més específica."
   ]
  },
  {
   "cell_type": "code",
   "execution_count": null,
   "metadata": {},
   "outputs": [],
   "source": [
    "\n",
    "df_who.loc[167:169, [\"Country\",\"Total_CO2_emissions\"]] # per noms"
   ]
  },
  {
   "cell_type": "markdown",
   "metadata": {
    "collapsed": false
   },
   "source": [
    "No sempre ens serà còmode fer seleccions amb els noms de les files (encara que normalment siguin nombres) i de les columnes. Si volem fer seleccions emprant només els índexs podem emprar el mètode `iloc`:"
   ]
  },
  {
   "cell_type": "code",
   "execution_count": null,
   "metadata": {},
   "outputs": [],
   "source": [
    "df_who.iloc[[168,192],[0,43,118]] # per posicions"
   ]
  },
  {
   "cell_type": "markdown",
   "metadata": {},
   "source": [
    "## Estadistics damunt d'un dataframe"
   ]
  },
  {
   "cell_type": "code",
   "execution_count": null,
   "metadata": {},
   "outputs": [],
   "source": [
    "# Creem un dataframe numèric amb valors aleatoris\n",
    "import numpy as np\n",
    "\n",
    "np.random.seed(10)\n",
    "\n",
    "df = pd.DataFrame({\"one\":np.random.randint(-10,10,5),\n",
    "                  \"two\":np.random.random(5),\n",
    "                  \"three\":np.random.randint(0,5,5)})\n",
    "df"
   ]
  },
  {
   "cell_type": "code",
   "execution_count": null,
   "metadata": {},
   "outputs": [],
   "source": [
    "df.sum()"
   ]
  },
  {
   "cell_type": "code",
   "execution_count": null,
   "metadata": {},
   "outputs": [],
   "source": [
    "df.sum(axis=1) # concepte d'axis "
   ]
  },
  {
   "cell_type": "code",
   "execution_count": null,
   "metadata": {},
   "outputs": [],
   "source": [
    "df.cumsum()"
   ]
  },
  {
   "cell_type": "code",
   "execution_count": null,
   "metadata": {},
   "outputs": [],
   "source": [
    "df.apply(np.abs).cumsum()"
   ]
  },
  {
   "cell_type": "code",
   "execution_count": null,
   "metadata": {},
   "outputs": [],
   "source": [
    "df.apply(np.abs).cumsum(axis=1)"
   ]
  },
  {
   "cell_type": "code",
   "execution_count": null,
   "metadata": {},
   "outputs": [],
   "source": [
    "df.cumprod()"
   ]
  },
  {
   "cell_type": "code",
   "execution_count": null,
   "metadata": {},
   "outputs": [],
   "source": [
    "df.cumprod(axis=1)"
   ]
  },
  {
   "cell_type": "code",
   "execution_count": null,
   "metadata": {},
   "outputs": [],
   "source": [
    "ones = np.ones(5)\n",
    "print(ones)\n"
   ]
  },
  {
   "cell_type": "code",
   "execution_count": null,
   "metadata": {},
   "outputs": [],
   "source": [
    "df.sub(ones,axis=0)"
   ]
  },
  {
   "cell_type": "code",
   "execution_count": null,
   "metadata": {},
   "outputs": [],
   "source": [
    "df.sub(ones) #Alerta!"
   ]
  },
  {
   "cell_type": "code",
   "execution_count": null,
   "metadata": {},
   "outputs": [],
   "source": [
    "df.sub(df.one,axis=0)"
   ]
  },
  {
   "cell_type": "code",
   "execution_count": null,
   "metadata": {},
   "outputs": [],
   "source": [
    "# nornalització z-score (mean a 0 i desviació a 1)\n",
    "ts_stand = (df - df.mean()) / df.std()\n",
    "ts_stand"
   ]
  },
  {
   "cell_type": "code",
   "execution_count": null,
   "metadata": {},
   "outputs": [],
   "source": [
    "print(ts_stand.mean())\n",
    "print(\"----\")\n",
    "print(ts_stand.std())"
   ]
  },
  {
   "cell_type": "markdown",
   "metadata": {},
   "source": [
    "## Altres operaciones damunt sèries no numèriques"
   ]
  },
  {
   "cell_type": "code",
   "execution_count": null,
   "metadata": {},
   "outputs": [],
   "source": [
    "df_who[\"Country\"] "
   ]
  },
  {
   "cell_type": "markdown",
   "metadata": {},
   "source": [
    "Si l'objecte es del tipus string (str) podem aplicar mètodes d'aquest tipus a tota la sèrie:\n",
    "https://www.w3schools.com/python/python_ref_string.asp"
   ]
  },
  {
   "cell_type": "code",
   "execution_count": null,
   "metadata": {},
   "outputs": [],
   "source": [
    "df_who.Country.str.casefold()"
   ]
  },
  {
   "cell_type": "code",
   "execution_count": null,
   "metadata": {},
   "outputs": [],
   "source": [
    "df_who.Country.str.zfill(12)"
   ]
  },
  {
   "cell_type": "code",
   "execution_count": null,
   "metadata": {},
   "outputs": [],
   "source": []
  },
  {
   "cell_type": "markdown",
   "metadata": {},
   "source": [
    "## <span style=\"color:red\">Activitat 1: Reflexió - estructuració de dades</span>\n",
    "\n"
   ]
  },
  {
   "cell_type": "markdown",
   "metadata": {},
   "source": [
    "L'estructura de dades moltes vegades està condicionada per les eines i el llenguatge que utilitzem, però malgrat això, hi ha un conjunt de pràctiques que millorant la interpretabilitat, col·laboració, manteniment i escalabilitat.\n",
    "\n",
    "**La publicació de dades s'ha de fer en cru (raw data).**<br/>\n",
    "Les dades en cru, també conegudes com a dades primàries, dades font o dades atòmiques, són dades no processades que s'han recopilat i registrat directament d'una font sense cap manipulació, organització o anàlisi.\n",
    "\n",
    "L'agregació només s'ha d'aplicar per anonimitzar-les."
   ]
  },
  {
   "cell_type": "code",
   "execution_count": 3,
   "metadata": {},
   "outputs": [
    {
     "name": "stdout",
     "output_type": "stream",
     "text": [
      "[[30.3  20.3  25.9  39.  ]\n",
      " [ 0.33  0.43  0.34  0.12]\n",
      " [ 0.45  0.56  0.38  0.43]]\n"
     ]
    }
   ],
   "source": [
    "## EXEMPLE:\n",
    "import numpy as np\n",
    "preus = np.array(\n",
    "        [ #Dia0, Dia1, Dia2, Dia3\n",
    "          [30.3, 20.3, 25.9, 39.0], # Cebes, preus per cèntims/kg \n",
    "          [0.33, 0.43, 0.34, 0.12], # Patates, euro/kg\n",
    "          [0.45, 0.56, 0.38, 0.43] # Taronges euro/kg\n",
    "])\n",
    "\n",
    "print(preus)"
   ]
  },
  {
   "cell_type": "code",
   "execution_count": 4,
   "metadata": {},
   "outputs": [],
   "source": [
    "# Problema 1. On resideix el conexeixement?\n",
    "kk = np.array([[30.3, 20.3, 25.9, 39.0], \n",
    "            [0.33, 0.43, 0.34, 0.12], \n",
    "            [0.45, 0.56, 0.38, 0.43] ])\n",
    "\n",
    "# Problema 2. I si tinc un nou producte: llimones, i d'altres dies\n",
    "# Problema 3. I com puc afegir més preus de les patates (dia 4 i dia 5)\n",
    "# Problema 4. I sí el dia 2, és realment el día 3\n",
    "# ..."
   ]
  },
  {
   "cell_type": "markdown",
   "metadata": {},
   "source": [
    "### Com estructurem aquestes dades en un dataframe?"
   ]
  },
  {
   "cell_type": "code",
   "execution_count": 4,
   "metadata": {},
   "outputs": [
    {
     "data": {
      "text/html": [
       "<div>\n",
       "<style scoped>\n",
       "    .dataframe tbody tr th:only-of-type {\n",
       "        vertical-align: middle;\n",
       "    }\n",
       "\n",
       "    .dataframe tbody tr th {\n",
       "        vertical-align: top;\n",
       "    }\n",
       "\n",
       "    .dataframe thead th {\n",
       "        text-align: right;\n",
       "    }\n",
       "</style>\n",
       "<table border=\"1\" class=\"dataframe\">\n",
       "  <thead>\n",
       "    <tr style=\"text-align: right;\">\n",
       "      <th></th>\n",
       "      <th>producte</th>\n",
       "      <th>preu</th>\n",
       "      <th>data</th>\n",
       "    </tr>\n",
       "  </thead>\n",
       "  <tbody>\n",
       "    <tr>\n",
       "      <th>0</th>\n",
       "      <td>cebes</td>\n",
       "      <td>30.30</td>\n",
       "      <td>2024-01-07</td>\n",
       "    </tr>\n",
       "    <tr>\n",
       "      <th>1</th>\n",
       "      <td>cebes</td>\n",
       "      <td>20.30</td>\n",
       "      <td>2024-01-08</td>\n",
       "    </tr>\n",
       "    <tr>\n",
       "      <th>2</th>\n",
       "      <td>cebes</td>\n",
       "      <td>25.90</td>\n",
       "      <td>2024-01-09</td>\n",
       "    </tr>\n",
       "    <tr>\n",
       "      <th>3</th>\n",
       "      <td>cebes</td>\n",
       "      <td>39.00</td>\n",
       "      <td>2024-01-10</td>\n",
       "    </tr>\n",
       "    <tr>\n",
       "      <th>4</th>\n",
       "      <td>patates</td>\n",
       "      <td>0.33</td>\n",
       "      <td>2024-01-07</td>\n",
       "    </tr>\n",
       "    <tr>\n",
       "      <th>5</th>\n",
       "      <td>patates</td>\n",
       "      <td>0.43</td>\n",
       "      <td>2024-01-08</td>\n",
       "    </tr>\n",
       "    <tr>\n",
       "      <th>6</th>\n",
       "      <td>patates</td>\n",
       "      <td>0.34</td>\n",
       "      <td>2024-01-09</td>\n",
       "    </tr>\n",
       "    <tr>\n",
       "      <th>7</th>\n",
       "      <td>patates</td>\n",
       "      <td>0.12</td>\n",
       "      <td>2024-01-10</td>\n",
       "    </tr>\n",
       "    <tr>\n",
       "      <th>8</th>\n",
       "      <td>taronges</td>\n",
       "      <td>0.45</td>\n",
       "      <td>2024-01-07</td>\n",
       "    </tr>\n",
       "    <tr>\n",
       "      <th>9</th>\n",
       "      <td>taronges</td>\n",
       "      <td>0.56</td>\n",
       "      <td>2024-01-08</td>\n",
       "    </tr>\n",
       "    <tr>\n",
       "      <th>10</th>\n",
       "      <td>taronges</td>\n",
       "      <td>0.38</td>\n",
       "      <td>2024-01-09</td>\n",
       "    </tr>\n",
       "    <tr>\n",
       "      <th>11</th>\n",
       "      <td>taronges</td>\n",
       "      <td>0.43</td>\n",
       "      <td>2024-01-10</td>\n",
       "    </tr>\n",
       "  </tbody>\n",
       "</table>\n",
       "</div>"
      ],
      "text/plain": [
       "    producte   preu       data\n",
       "0      cebes  30.30 2024-01-07\n",
       "1      cebes  20.30 2024-01-08\n",
       "2      cebes  25.90 2024-01-09\n",
       "3      cebes  39.00 2024-01-10\n",
       "4    patates   0.33 2024-01-07\n",
       "5    patates   0.43 2024-01-08\n",
       "6    patates   0.34 2024-01-09\n",
       "7    patates   0.12 2024-01-10\n",
       "8   taronges   0.45 2024-01-07\n",
       "9   taronges   0.56 2024-01-08\n",
       "10  taronges   0.38 2024-01-09\n",
       "11  taronges   0.43 2024-01-10"
      ]
     },
     "execution_count": 4,
     "metadata": {},
     "output_type": "execute_result"
    }
   ],
   "source": [
    "### REFLEXIO\n",
    "\n",
    "### ANNEX\n",
    "import pandas as pd\n",
    "import numpy as np\n",
    "preus = np.array(\n",
    "        [ #Dia0, Dia1, Dia2, Dia3\n",
    "          [30.3, 20.3, 25.9, 39.0], # Cebes, preus per cèntims/kg \n",
    "          [0.33, 0.43, 0.34, 0.12], # Patates, euro/kg\n",
    "          [0.45, 0.56, 0.38, 0.43] # Taronges euro/kg\n",
    "])\n",
    "productes = np.array([[\"cebes\"]*preus.shape[1],[\"patates\"]*preus.shape[1],[\"taronges\"]*preus.shape[1]]).flatten()\n",
    "dates = np.tile(pd.date_range(\"2024-01-07\", periods=preus.shape[1], freq=\"d\").to_numpy(),preus.shape[0])\n",
    "\n",
    "df_preus = pd.DataFrame(dict({\"producte\":productes,\"preu\":preus.flatten(),\"data\":dates}))\n",
    "df_preus"
   ]
  },
  {
   "cell_type": "code",
   "execution_count": 12,
   "metadata": {},
   "outputs": [
    {
     "name": "stdout",
     "output_type": "stream",
     "text": [
      "          producte   preu       data\n",
      "producte                            \n",
      "cebes        cebes  0.303 2024-01-07\n",
      "cebes        cebes  0.203 2024-01-08\n",
      "cebes        cebes  0.259 2024-01-09\n",
      "cebes        cebes  0.390 2024-01-10\n",
      "patates    patates  0.330 2024-01-07\n",
      "patates    patates  0.430 2024-01-08\n",
      "patates    patates  0.340 2024-01-09\n",
      "patates    patates  0.120 2024-01-10\n",
      "taronges  taronges  0.450 2024-01-07\n",
      "taronges  taronges  0.560 2024-01-08\n",
      "taronges  taronges  0.380 2024-01-09\n",
      "taronges  taronges  0.430 2024-01-10\n",
      "producte\n",
      "cebes    0.303\n",
      "cebes    0.203\n",
      "cebes    0.259\n",
      "cebes    0.390\n",
      "Name: preu, dtype: float64\n"
     ]
    }
   ],
   "source": [
    "# normalitzacio preus cebes\n",
    "df_preus.index = df_preus.producte ### Podem fer el que volguem amb l'index\n",
    "print(df_preus)\n",
    "print(df_preus.loc[\"cebes\",\"preu\"])\n",
    "\n",
    "df_preus.index.names = ['index']\n",
    "df_preus.loc[\"cebes\",\"preu\"] = df_preus.loc[\"cebes\",\"preu\"]/100"
   ]
  },
  {
   "cell_type": "code",
   "execution_count": 13,
   "metadata": {},
   "outputs": [
    {
     "data": {
      "text/html": [
       "<div>\n",
       "<style scoped>\n",
       "    .dataframe tbody tr th:only-of-type {\n",
       "        vertical-align: middle;\n",
       "    }\n",
       "\n",
       "    .dataframe tbody tr th {\n",
       "        vertical-align: top;\n",
       "    }\n",
       "\n",
       "    .dataframe thead th {\n",
       "        text-align: right;\n",
       "    }\n",
       "</style>\n",
       "<table border=\"1\" class=\"dataframe\">\n",
       "  <thead>\n",
       "    <tr style=\"text-align: right;\">\n",
       "      <th></th>\n",
       "      <th>preu</th>\n",
       "      <th>data</th>\n",
       "    </tr>\n",
       "    <tr>\n",
       "      <th>producte</th>\n",
       "      <th></th>\n",
       "      <th></th>\n",
       "    </tr>\n",
       "  </thead>\n",
       "  <tbody>\n",
       "    <tr>\n",
       "      <th>cebes</th>\n",
       "      <td>0.0039</td>\n",
       "      <td>2024-01-10</td>\n",
       "    </tr>\n",
       "    <tr>\n",
       "      <th>patates</th>\n",
       "      <td>0.4300</td>\n",
       "      <td>2024-01-10</td>\n",
       "    </tr>\n",
       "    <tr>\n",
       "      <th>taronges</th>\n",
       "      <td>0.5600</td>\n",
       "      <td>2024-01-10</td>\n",
       "    </tr>\n",
       "  </tbody>\n",
       "</table>\n",
       "</div>"
      ],
      "text/plain": [
       "            preu       data\n",
       "producte                   \n",
       "cebes     0.0039 2024-01-10\n",
       "patates   0.4300 2024-01-10\n",
       "taronges  0.5600 2024-01-10"
      ]
     },
     "execution_count": 13,
     "metadata": {},
     "output_type": "execute_result"
    }
   ],
   "source": [
    "# A) Quin és el preu màxim de cada producte?\n",
    "df_preus.groupby(\"producte\").max() #data col. no\n"
   ]
  },
  {
   "cell_type": "code",
   "execution_count": 14,
   "metadata": {},
   "outputs": [
    {
     "data": {
      "text/plain": [
       "producte               taronges\n",
       "preu                       0.56\n",
       "data        2024-01-10 00:00:00\n",
       "dtype: object"
      ]
     },
     "execution_count": 14,
     "metadata": {},
     "output_type": "execute_result"
    }
   ],
   "source": [
    "# B) Quin és el producte més car?\n",
    "df_preus.groupby(\"producte\").max().reset_index().max()"
   ]
  },
  {
   "cell_type": "code",
   "execution_count": 16,
   "metadata": {},
   "outputs": [
    {
     "data": {
      "text/html": [
       "<div>\n",
       "<style scoped>\n",
       "    .dataframe tbody tr th:only-of-type {\n",
       "        vertical-align: middle;\n",
       "    }\n",
       "\n",
       "    .dataframe tbody tr th {\n",
       "        vertical-align: top;\n",
       "    }\n",
       "\n",
       "    .dataframe thead th {\n",
       "        text-align: right;\n",
       "    }\n",
       "</style>\n",
       "<table border=\"1\" class=\"dataframe\">\n",
       "  <thead>\n",
       "    <tr style=\"text-align: right;\">\n",
       "      <th></th>\n",
       "      <th>producte</th>\n",
       "      <th>preu</th>\n",
       "      <th>data</th>\n",
       "    </tr>\n",
       "    <tr>\n",
       "      <th>index</th>\n",
       "      <th></th>\n",
       "      <th></th>\n",
       "      <th></th>\n",
       "    </tr>\n",
       "  </thead>\n",
       "  <tbody>\n",
       "    <tr>\n",
       "      <th>taronges</th>\n",
       "      <td>taronges</td>\n",
       "      <td>0.56</td>\n",
       "      <td>2024-01-08</td>\n",
       "    </tr>\n",
       "  </tbody>\n",
       "</table>\n",
       "</div>"
      ],
      "text/plain": [
       "          producte  preu       data\n",
       "index                              \n",
       "taronges  taronges  0.56 2024-01-08"
      ]
     },
     "execution_count": 16,
     "metadata": {},
     "output_type": "execute_result"
    }
   ],
   "source": [
    "# C) Quin dia són més cares les taronges?\n",
    "df_taronges = df_preus.loc[df_preus[\"producte\"]==\"taronges\"]\n",
    "df_taronges[df_taronges[\"preu\"]== df_taronges[\"preu\"].max()]"
   ]
  },
  {
   "cell_type": "code",
   "execution_count": 17,
   "metadata": {},
   "outputs": [
    {
     "data": {
      "text/html": [
       "<div>\n",
       "<style scoped>\n",
       "    .dataframe tbody tr th:only-of-type {\n",
       "        vertical-align: middle;\n",
       "    }\n",
       "\n",
       "    .dataframe tbody tr th {\n",
       "        vertical-align: top;\n",
       "    }\n",
       "\n",
       "    .dataframe thead th {\n",
       "        text-align: right;\n",
       "    }\n",
       "</style>\n",
       "<table border=\"1\" class=\"dataframe\">\n",
       "  <thead>\n",
       "    <tr style=\"text-align: right;\">\n",
       "      <th></th>\n",
       "      <th>producte</th>\n",
       "      <th>preu</th>\n",
       "      <th>data</th>\n",
       "    </tr>\n",
       "    <tr>\n",
       "      <th>index</th>\n",
       "      <th></th>\n",
       "      <th></th>\n",
       "      <th></th>\n",
       "    </tr>\n",
       "  </thead>\n",
       "  <tbody>\n",
       "    <tr>\n",
       "      <th>cebes</th>\n",
       "      <td>cebes</td>\n",
       "      <td>0.003636</td>\n",
       "      <td>2024-01-07</td>\n",
       "    </tr>\n",
       "    <tr>\n",
       "      <th>cebes</th>\n",
       "      <td>cebes</td>\n",
       "      <td>0.002436</td>\n",
       "      <td>2024-01-08</td>\n",
       "    </tr>\n",
       "    <tr>\n",
       "      <th>cebes</th>\n",
       "      <td>cebes</td>\n",
       "      <td>0.003108</td>\n",
       "      <td>2024-01-09</td>\n",
       "    </tr>\n",
       "    <tr>\n",
       "      <th>cebes</th>\n",
       "      <td>cebes</td>\n",
       "      <td>0.004680</td>\n",
       "      <td>2024-01-10</td>\n",
       "    </tr>\n",
       "    <tr>\n",
       "      <th>patates</th>\n",
       "      <td>patates</td>\n",
       "      <td>0.396000</td>\n",
       "      <td>2024-01-07</td>\n",
       "    </tr>\n",
       "    <tr>\n",
       "      <th>patates</th>\n",
       "      <td>patates</td>\n",
       "      <td>0.516000</td>\n",
       "      <td>2024-01-08</td>\n",
       "    </tr>\n",
       "    <tr>\n",
       "      <th>patates</th>\n",
       "      <td>patates</td>\n",
       "      <td>0.408000</td>\n",
       "      <td>2024-01-09</td>\n",
       "    </tr>\n",
       "    <tr>\n",
       "      <th>patates</th>\n",
       "      <td>patates</td>\n",
       "      <td>0.144000</td>\n",
       "      <td>2024-01-10</td>\n",
       "    </tr>\n",
       "    <tr>\n",
       "      <th>taronges</th>\n",
       "      <td>taronges</td>\n",
       "      <td>0.540000</td>\n",
       "      <td>2024-01-07</td>\n",
       "    </tr>\n",
       "    <tr>\n",
       "      <th>taronges</th>\n",
       "      <td>taronges</td>\n",
       "      <td>0.672000</td>\n",
       "      <td>2024-01-08</td>\n",
       "    </tr>\n",
       "    <tr>\n",
       "      <th>taronges</th>\n",
       "      <td>taronges</td>\n",
       "      <td>0.456000</td>\n",
       "      <td>2024-01-09</td>\n",
       "    </tr>\n",
       "    <tr>\n",
       "      <th>taronges</th>\n",
       "      <td>taronges</td>\n",
       "      <td>0.516000</td>\n",
       "      <td>2024-01-10</td>\n",
       "    </tr>\n",
       "  </tbody>\n",
       "</table>\n",
       "</div>"
      ],
      "text/plain": [
       "          producte      preu       data\n",
       "index                                  \n",
       "cebes        cebes  0.003636 2024-01-07\n",
       "cebes        cebes  0.002436 2024-01-08\n",
       "cebes        cebes  0.003108 2024-01-09\n",
       "cebes        cebes  0.004680 2024-01-10\n",
       "patates    patates  0.396000 2024-01-07\n",
       "patates    patates  0.516000 2024-01-08\n",
       "patates    patates  0.408000 2024-01-09\n",
       "patates    patates  0.144000 2024-01-10\n",
       "taronges  taronges  0.540000 2024-01-07\n",
       "taronges  taronges  0.672000 2024-01-08\n",
       "taronges  taronges  0.456000 2024-01-09\n",
       "taronges  taronges  0.516000 2024-01-10"
      ]
     },
     "execution_count": 17,
     "metadata": {},
     "output_type": "execute_result"
    }
   ],
   "source": [
    "# D) I si el preu de mercat és un 20% més, quins preus tindrem?\n",
    "df_preus_inf = df_preus\n",
    "df_preus_inf[\"preu\"] = df_preus_inf[\"preu\"]*1.2\n",
    "df_preus_inf"
   ]
  },
  {
   "cell_type": "code",
   "execution_count": 18,
   "metadata": {},
   "outputs": [
    {
     "data": {
      "text/plain": [
       "2.02209"
      ]
     },
     "execution_count": 18,
     "metadata": {},
     "output_type": "execute_result"
    }
   ],
   "source": [
    "# E) Quin és el cost de comprar 3 kg de taronges i 2.5 kg de cebes el dia 2?\n",
    "df_tmp = df_preus.set_index(df_preus.producte)\n",
    "df_tmp_date2 = df_tmp[df_tmp[\"data\"]==\"2024-01-08\"]\n",
    "df_tmp_date2.loc[\"cebes\"][\"preu\"]*2.5+df_tmp_date2.loc[\"taronges\"][\"preu\"]*3"
   ]
  },
  {
   "attachments": {},
   "cell_type": "markdown",
   "metadata": {},
   "source": [
    "## <span style=\"color:red\">Activitat 2</span>\n",
    "\n",
    "En aquesta activitat practicarem la selecció de dades (columnes i files) en un dataframe"
   ]
  },
  {
   "cell_type": "markdown",
   "metadata": {
    "collapsed": false
   },
   "source": [
    "**1) Quina és la mitjana de la població urbana (\"Urban_population\") de tots els països? La seva desviació típica (std)?**"
   ]
  },
  {
   "cell_type": "code",
   "execution_count": 19,
   "metadata": {
    "collapsed": false
   },
   "outputs": [
    {
     "name": "stdout",
     "output_type": "stream",
     "text": [
      "16657626.767446807\n",
      "50948665.823935635\n"
     ]
    }
   ],
   "source": [
    "import pandas as pd\n",
    "df_who = pd.read_csv(\"http://www.exploredata.net/ftp/WHO.csv\") \n",
    "\n",
    "print(df_who[\"Urban_population\"].mean())\n",
    "print(df_who[\"Urban_population\"].std())"
   ]
  },
  {
   "cell_type": "markdown",
   "metadata": {
    "collapsed": false
   },
   "source": [
    "**2) Consulta la fila del país: “Spain”**"
   ]
  },
  {
   "cell_type": "code",
   "execution_count": 20,
   "metadata": {
    "collapsed": false
   },
   "outputs": [
    {
     "data": {
      "text/html": [
       "<div>\n",
       "<style scoped>\n",
       "    .dataframe tbody tr th:only-of-type {\n",
       "        vertical-align: middle;\n",
       "    }\n",
       "\n",
       "    .dataframe tbody tr th {\n",
       "        vertical-align: top;\n",
       "    }\n",
       "\n",
       "    .dataframe thead th {\n",
       "        text-align: right;\n",
       "    }\n",
       "</style>\n",
       "<table border=\"1\" class=\"dataframe\">\n",
       "  <thead>\n",
       "    <tr style=\"text-align: right;\">\n",
       "      <th></th>\n",
       "      <th>Country</th>\n",
       "      <th>CountryID</th>\n",
       "      <th>Continent</th>\n",
       "      <th>Adolescent fertility rate (%)</th>\n",
       "      <th>Adult literacy rate (%)</th>\n",
       "      <th>Gross national income per capita (PPP international $)</th>\n",
       "      <th>Net primary school enrolment ratio female (%)</th>\n",
       "      <th>Net primary school enrolment ratio male (%)</th>\n",
       "      <th>Population (in thousands) total</th>\n",
       "      <th>Population annual growth rate (%)</th>\n",
       "      <th>...</th>\n",
       "      <th>Total_CO2_emissions</th>\n",
       "      <th>Total_income</th>\n",
       "      <th>Total_reserves</th>\n",
       "      <th>Trade_balance_goods_and_services</th>\n",
       "      <th>Under_five_mortality_from_CME</th>\n",
       "      <th>Under_five_mortality_from_IHME</th>\n",
       "      <th>Under_five_mortality_rate</th>\n",
       "      <th>Urban_population</th>\n",
       "      <th>Urban_population_growth</th>\n",
       "      <th>Urban_population_pct_of_total</th>\n",
       "    </tr>\n",
       "  </thead>\n",
       "  <tbody>\n",
       "    <tr>\n",
       "      <th>168</th>\n",
       "      <td>Spain</td>\n",
       "      <td>169</td>\n",
       "      <td>2</td>\n",
       "      <td>10.0</td>\n",
       "      <td>97.2</td>\n",
       "      <td>28200.0</td>\n",
       "      <td>99.0</td>\n",
       "      <td>100.0</td>\n",
       "      <td>43887.0</td>\n",
       "      <td>1.1</td>\n",
       "      <td>...</td>\n",
       "      <td>343701.53</td>\n",
       "      <td>6.780000e+11</td>\n",
       "      <td>NaN</td>\n",
       "      <td>-5.770000e+10</td>\n",
       "      <td>4.9</td>\n",
       "      <td>4.2</td>\n",
       "      <td>4.9</td>\n",
       "      <td>33300000.0</td>\n",
       "      <td>1.75</td>\n",
       "      <td>76.7</td>\n",
       "    </tr>\n",
       "  </tbody>\n",
       "</table>\n",
       "<p>1 rows × 358 columns</p>\n",
       "</div>"
      ],
      "text/plain": [
       "    Country  CountryID  Continent  Adolescent fertility rate (%)  \\\n",
       "168   Spain        169          2                           10.0   \n",
       "\n",
       "     Adult literacy rate (%)  \\\n",
       "168                     97.2   \n",
       "\n",
       "     Gross national income per capita (PPP international $)  \\\n",
       "168                                            28200.0        \n",
       "\n",
       "     Net primary school enrolment ratio female (%)  \\\n",
       "168                                           99.0   \n",
       "\n",
       "     Net primary school enrolment ratio male (%)  \\\n",
       "168                                        100.0   \n",
       "\n",
       "     Population (in thousands) total  Population annual growth rate (%)  ...  \\\n",
       "168                          43887.0                                1.1  ...   \n",
       "\n",
       "     Total_CO2_emissions  Total_income  Total_reserves  \\\n",
       "168            343701.53  6.780000e+11             NaN   \n",
       "\n",
       "     Trade_balance_goods_and_services  Under_five_mortality_from_CME  \\\n",
       "168                     -5.770000e+10                            4.9   \n",
       "\n",
       "     Under_five_mortality_from_IHME  Under_five_mortality_rate  \\\n",
       "168                             4.2                        4.9   \n",
       "\n",
       "     Urban_population  Urban_population_growth  Urban_population_pct_of_total  \n",
       "168        33300000.0                     1.75                           76.7  \n",
       "\n",
       "[1 rows x 358 columns]"
      ]
     },
     "execution_count": 20,
     "metadata": {},
     "output_type": "execute_result"
    }
   ],
   "source": [
    "df_who[df_who.Country == \"Spain\"]"
   ]
  },
  {
   "cell_type": "markdown",
   "metadata": {
    "collapsed": false
   },
   "source": [
    "**3) Quin país té una població urbana més gran?**"
   ]
  },
  {
   "cell_type": "code",
   "execution_count": 21,
   "metadata": {
    "collapsed": false
   },
   "outputs": [
    {
     "data": {
      "text/plain": [
       "'China'"
      ]
     },
     "execution_count": 21,
     "metadata": {},
     "output_type": "execute_result"
    }
   ],
   "source": [
    "df_who[df_who[\"Urban_population\"]==df_who[\"Urban_population\"].max()][\"Country\"].values[0]"
   ]
  },
  {
   "cell_type": "markdown",
   "metadata": {
    "collapsed": false
   },
   "source": [
    "**4) El continent on està situat Spain és el mateix que el d'UnitedStates?**\n",
    "\n",
    "Utilitza una condició per obtenir un resultat Booleà (*True* o *False*)"
   ]
  },
  {
   "cell_type": "code",
   "execution_count": 22,
   "metadata": {
    "collapsed": false
   },
   "outputs": [
    {
     "name": "stdout",
     "output_type": "stream",
     "text": [
      "2\n",
      "4\n",
      "False\n"
     ]
    }
   ],
   "source": [
    "continent_spain = df_who[df_who.Country == \"Spain\"][\"Continent\"].values[0]\n",
    "print(continent_spain)\n",
    "continent_eeuu = df_who[df_who.Country == \"United States of America\"][\"Continent\"].values[0]\n",
    "print(continent_eeuu)\n",
    "\n",
    "if (continent_eeuu==continent_spain):\n",
    "    print(\"Iguals\")\n",
    "else:\n",
    "    print(\"False\")"
   ]
  },
  {
   "cell_type": "markdown",
   "metadata": {
    "collapsed": false
   },
   "source": [
    "**5) Quins són els cinc països més contaminants (\"Total_CO2_emissions\")?**\n",
    "\n",
    "Aquesta és la meva [pista per a una solució elegant](http://pandas.pydata.org/pandas-docs/version/0.19.2/generated/pandas.DataFrame.sort_values.html)"
   ]
  },
  {
   "cell_type": "code",
   "execution_count": 23,
   "metadata": {},
   "outputs": [
    {
     "data": {
      "text/html": [
       "<div>\n",
       "<style scoped>\n",
       "    .dataframe tbody tr th:only-of-type {\n",
       "        vertical-align: middle;\n",
       "    }\n",
       "\n",
       "    .dataframe tbody tr th {\n",
       "        vertical-align: top;\n",
       "    }\n",
       "\n",
       "    .dataframe thead th {\n",
       "        text-align: right;\n",
       "    }\n",
       "</style>\n",
       "<table border=\"1\" class=\"dataframe\">\n",
       "  <thead>\n",
       "    <tr style=\"text-align: right;\">\n",
       "      <th></th>\n",
       "      <th>Country</th>\n",
       "      <th>CountryID</th>\n",
       "      <th>Continent</th>\n",
       "      <th>Adolescent fertility rate (%)</th>\n",
       "      <th>Adult literacy rate (%)</th>\n",
       "      <th>Gross national income per capita (PPP international $)</th>\n",
       "      <th>Net primary school enrolment ratio female (%)</th>\n",
       "      <th>Net primary school enrolment ratio male (%)</th>\n",
       "      <th>Population (in thousands) total</th>\n",
       "      <th>Population annual growth rate (%)</th>\n",
       "      <th>...</th>\n",
       "      <th>Total_CO2_emissions</th>\n",
       "      <th>Total_income</th>\n",
       "      <th>Total_reserves</th>\n",
       "      <th>Trade_balance_goods_and_services</th>\n",
       "      <th>Under_five_mortality_from_CME</th>\n",
       "      <th>Under_five_mortality_from_IHME</th>\n",
       "      <th>Under_five_mortality_rate</th>\n",
       "      <th>Urban_population</th>\n",
       "      <th>Urban_population_growth</th>\n",
       "      <th>Urban_population_pct_of_total</th>\n",
       "    </tr>\n",
       "  </thead>\n",
       "  <tbody>\n",
       "    <tr>\n",
       "      <th>192</th>\n",
       "      <td>United States of America</td>\n",
       "      <td>193</td>\n",
       "      <td>4</td>\n",
       "      <td>43.0</td>\n",
       "      <td>NaN</td>\n",
       "      <td>44070.0</td>\n",
       "      <td>93.0</td>\n",
       "      <td>91.0</td>\n",
       "      <td>302841.0</td>\n",
       "      <td>1.0</td>\n",
       "      <td>...</td>\n",
       "      <td>5776431.5</td>\n",
       "      <td>1.100000e+13</td>\n",
       "      <td>NaN</td>\n",
       "      <td>-7.140000e+11</td>\n",
       "      <td>8.00</td>\n",
       "      <td>7.1</td>\n",
       "      <td>8.00</td>\n",
       "      <td>240000000.0</td>\n",
       "      <td>1.39</td>\n",
       "      <td>80.8</td>\n",
       "    </tr>\n",
       "    <tr>\n",
       "      <th>36</th>\n",
       "      <td>China</td>\n",
       "      <td>37</td>\n",
       "      <td>7</td>\n",
       "      <td>3.0</td>\n",
       "      <td>90.9</td>\n",
       "      <td>4660.0</td>\n",
       "      <td>96.0</td>\n",
       "      <td>100.0</td>\n",
       "      <td>1328474.0</td>\n",
       "      <td>0.6</td>\n",
       "      <td>...</td>\n",
       "      <td>5547757.5</td>\n",
       "      <td>1.890000e+12</td>\n",
       "      <td>295.23</td>\n",
       "      <td>1.250000e+11</td>\n",
       "      <td>27.30</td>\n",
       "      <td>27.8</td>\n",
       "      <td>27.30</td>\n",
       "      <td>527000000.0</td>\n",
       "      <td>2.95</td>\n",
       "      <td>40.4</td>\n",
       "    </tr>\n",
       "    <tr>\n",
       "      <th>149</th>\n",
       "      <td>Russia</td>\n",
       "      <td>150</td>\n",
       "      <td>2</td>\n",
       "      <td>28.0</td>\n",
       "      <td>99.4</td>\n",
       "      <td>12740.0</td>\n",
       "      <td>91.0</td>\n",
       "      <td>91.0</td>\n",
       "      <td>143221.0</td>\n",
       "      <td>-0.5</td>\n",
       "      <td>...</td>\n",
       "      <td>1503302.5</td>\n",
       "      <td>3.500000e+11</td>\n",
       "      <td>79.57</td>\n",
       "      <td>1.040000e+11</td>\n",
       "      <td>18.30</td>\n",
       "      <td>20.5</td>\n",
       "      <td>18.30</td>\n",
       "      <td>104000000.0</td>\n",
       "      <td>-0.60</td>\n",
       "      <td>73.0</td>\n",
       "    </tr>\n",
       "    <tr>\n",
       "      <th>79</th>\n",
       "      <td>India</td>\n",
       "      <td>80</td>\n",
       "      <td>7</td>\n",
       "      <td>97.0</td>\n",
       "      <td>61.0</td>\n",
       "      <td>2460.0</td>\n",
       "      <td>87.0</td>\n",
       "      <td>90.0</td>\n",
       "      <td>1151751.0</td>\n",
       "      <td>1.5</td>\n",
       "      <td>...</td>\n",
       "      <td>1402359.4</td>\n",
       "      <td>6.440000e+11</td>\n",
       "      <td>111.94</td>\n",
       "      <td>-2.470000e+10</td>\n",
       "      <td>80.21</td>\n",
       "      <td>77.2</td>\n",
       "      <td>80.21</td>\n",
       "      <td>314000000.0</td>\n",
       "      <td>2.07</td>\n",
       "      <td>28.7</td>\n",
       "    </tr>\n",
       "    <tr>\n",
       "      <th>87</th>\n",
       "      <td>Japan</td>\n",
       "      <td>88</td>\n",
       "      <td>6</td>\n",
       "      <td>6.0</td>\n",
       "      <td>NaN</td>\n",
       "      <td>32840.0</td>\n",
       "      <td>100.0</td>\n",
       "      <td>100.0</td>\n",
       "      <td>127953.0</td>\n",
       "      <td>0.0</td>\n",
       "      <td>...</td>\n",
       "      <td>1230026.8</td>\n",
       "      <td>4.990000e+12</td>\n",
       "      <td>NaN</td>\n",
       "      <td>6.990000e+10</td>\n",
       "      <td>3.80</td>\n",
       "      <td>3.5</td>\n",
       "      <td>3.80</td>\n",
       "      <td>84100000.0</td>\n",
       "      <td>0.19</td>\n",
       "      <td>65.8</td>\n",
       "    </tr>\n",
       "  </tbody>\n",
       "</table>\n",
       "<p>5 rows × 358 columns</p>\n",
       "</div>"
      ],
      "text/plain": [
       "                      Country  CountryID  Continent  \\\n",
       "192  United States of America        193          4   \n",
       "36                      China         37          7   \n",
       "149                    Russia        150          2   \n",
       "79                      India         80          7   \n",
       "87                      Japan         88          6   \n",
       "\n",
       "     Adolescent fertility rate (%)  Adult literacy rate (%)  \\\n",
       "192                           43.0                      NaN   \n",
       "36                             3.0                     90.9   \n",
       "149                           28.0                     99.4   \n",
       "79                            97.0                     61.0   \n",
       "87                             6.0                      NaN   \n",
       "\n",
       "     Gross national income per capita (PPP international $)  \\\n",
       "192                                            44070.0        \n",
       "36                                              4660.0        \n",
       "149                                            12740.0        \n",
       "79                                              2460.0        \n",
       "87                                             32840.0        \n",
       "\n",
       "     Net primary school enrolment ratio female (%)  \\\n",
       "192                                           93.0   \n",
       "36                                            96.0   \n",
       "149                                           91.0   \n",
       "79                                            87.0   \n",
       "87                                           100.0   \n",
       "\n",
       "     Net primary school enrolment ratio male (%)  \\\n",
       "192                                         91.0   \n",
       "36                                         100.0   \n",
       "149                                         91.0   \n",
       "79                                          90.0   \n",
       "87                                         100.0   \n",
       "\n",
       "     Population (in thousands) total  Population annual growth rate (%)  ...  \\\n",
       "192                         302841.0                                1.0  ...   \n",
       "36                         1328474.0                                0.6  ...   \n",
       "149                         143221.0                               -0.5  ...   \n",
       "79                         1151751.0                                1.5  ...   \n",
       "87                          127953.0                                0.0  ...   \n",
       "\n",
       "     Total_CO2_emissions  Total_income  Total_reserves  \\\n",
       "192            5776431.5  1.100000e+13             NaN   \n",
       "36             5547757.5  1.890000e+12          295.23   \n",
       "149            1503302.5  3.500000e+11           79.57   \n",
       "79             1402359.4  6.440000e+11          111.94   \n",
       "87             1230026.8  4.990000e+12             NaN   \n",
       "\n",
       "     Trade_balance_goods_and_services  Under_five_mortality_from_CME  \\\n",
       "192                     -7.140000e+11                           8.00   \n",
       "36                       1.250000e+11                          27.30   \n",
       "149                      1.040000e+11                          18.30   \n",
       "79                      -2.470000e+10                          80.21   \n",
       "87                       6.990000e+10                           3.80   \n",
       "\n",
       "     Under_five_mortality_from_IHME  Under_five_mortality_rate  \\\n",
       "192                             7.1                       8.00   \n",
       "36                             27.8                      27.30   \n",
       "149                            20.5                      18.30   \n",
       "79                             77.2                      80.21   \n",
       "87                              3.5                       3.80   \n",
       "\n",
       "     Urban_population  Urban_population_growth  Urban_population_pct_of_total  \n",
       "192       240000000.0                     1.39                           80.8  \n",
       "36        527000000.0                     2.95                           40.4  \n",
       "149       104000000.0                    -0.60                           73.0  \n",
       "79        314000000.0                     2.07                           28.7  \n",
       "87         84100000.0                     0.19                           65.8  \n",
       "\n",
       "[5 rows x 358 columns]"
      ]
     },
     "execution_count": 23,
     "metadata": {},
     "output_type": "execute_result"
    }
   ],
   "source": [
    "df_who.iloc[df_who.Total_CO2_emissions.nlargest(5).index]"
   ]
  },
  {
   "cell_type": "markdown",
   "metadata": {
    "collapsed": false
   },
   "source": [
    "**6) Observant algunes mostres del fitxer pots establir la relació entre l'identificador del continent i el seu nom?**\n",
    "\n",
    "És a dir, sabem que Spain és al continent Europeu i el codi del continent és el 2.\n",
    "\n",
    "Hi ha els codis de continents: 1, 2, 3, 4, 5, 6, 7\n",
    "\n",
    "**Nota:** Hi ha dos codis associats a Àsia.\n",
    "\n",
    "Fes les consultes pertinents al dataframe per construir un diccionari amb la següent"
   ]
  },
  {
   "cell_type": "code",
   "execution_count": 24,
   "metadata": {
    "collapsed": false
   },
   "outputs": [],
   "source": [
    "codigoContinentes = {1:\"Africa\",2:\"Europa\",3:\"Africa\",4:\"America Norte\",5:\"America Sur\",6:\"Oceania\",7:\"Asia\"}  #aprox."
   ]
  },
  {
   "cell_type": "code",
   "execution_count": null,
   "metadata": {
    "collapsed": false
   },
   "outputs": [],
   "source": [
    "codigoContinentes[3] = \"\"\n",
    "codigoContinentes[4] = \"\"\n",
    "codigoContinentes[5] = \"\"\n",
    "codigoContinentes[6] = \"\"\n",
    "codigoContinentes[7] = \"\""
   ]
  },
  {
   "cell_type": "markdown",
   "metadata": {},
   "source": [
    "\n",
    "**7) Quins països tenen una població urbana menor a 50.000 ?**"
   ]
  },
  {
   "cell_type": "code",
   "execution_count": 25,
   "metadata": {},
   "outputs": [
    {
     "data": {
      "text/plain": [
       "5        Antigua and Barbuda\n",
       "69                   Grenada\n",
       "91                  Kiribati\n",
       "151    Saint Kitts and Nevis\n",
       "152              Saint Lucia\n",
       "154                    Samoa\n",
       "160               Seychelles\n",
       "182                    Tonga\n",
       "Name: Country, dtype: object"
      ]
     },
     "execution_count": 25,
     "metadata": {},
     "output_type": "execute_result"
    }
   ],
   "source": [
    "df_who[df_who[\"Urban_population\"]<50000][\"Country\"]"
   ]
  },
  {
   "cell_type": "markdown",
   "metadata": {},
   "source": [
    "**8) Selecciona els països entre les files 100 i 120 i només 4 columnes a l'atzar.**"
   ]
  },
  {
   "cell_type": "code",
   "execution_count": 26,
   "metadata": {},
   "outputs": [
    {
     "name": "stdout",
     "output_type": "stream",
     "text": [
      "358\n",
      "[221 285 218  74]\n"
     ]
    },
    {
     "data": {
      "text/html": [
       "<div>\n",
       "<style scoped>\n",
       "    .dataframe tbody tr th:only-of-type {\n",
       "        vertical-align: middle;\n",
       "    }\n",
       "\n",
       "    .dataframe tbody tr th {\n",
       "        vertical-align: top;\n",
       "    }\n",
       "\n",
       "    .dataframe thead th {\n",
       "        text-align: right;\n",
       "    }\n",
       "</style>\n",
       "<table border=\"1\" class=\"dataframe\">\n",
       "  <thead>\n",
       "    <tr style=\"text-align: right;\">\n",
       "      <th></th>\n",
       "      <th>Expenditure_per_student_primary</th>\n",
       "      <th>Market_value_of_listed_companies</th>\n",
       "      <th>Electricity_generation</th>\n",
       "      <th>Births attended by skilled health personnel difference highest lowest educational level of mother</th>\n",
       "    </tr>\n",
       "  </thead>\n",
       "  <tbody>\n",
       "    <tr>\n",
       "      <th>100</th>\n",
       "      <td>NaN</td>\n",
       "      <td>NaN</td>\n",
       "      <td>NaN</td>\n",
       "      <td>NaN</td>\n",
       "    </tr>\n",
       "    <tr>\n",
       "      <th>101</th>\n",
       "      <td>2.97</td>\n",
       "      <td>NaN</td>\n",
       "      <td>NaN</td>\n",
       "      <td>NaN</td>\n",
       "    </tr>\n",
       "    <tr>\n",
       "      <th>102</th>\n",
       "      <td>15.03</td>\n",
       "      <td>31.82</td>\n",
       "      <td>14.78</td>\n",
       "      <td>NaN</td>\n",
       "    </tr>\n",
       "    <tr>\n",
       "      <th>103</th>\n",
       "      <td>20.66</td>\n",
       "      <td>140.20</td>\n",
       "      <td>NaN</td>\n",
       "      <td>NaN</td>\n",
       "    </tr>\n",
       "    <tr>\n",
       "      <th>104</th>\n",
       "      <td>4.76</td>\n",
       "      <td>3.14</td>\n",
       "      <td>NaN</td>\n",
       "      <td>NaN</td>\n",
       "    </tr>\n",
       "    <tr>\n",
       "      <th>105</th>\n",
       "      <td>NaN</td>\n",
       "      <td>11.11</td>\n",
       "      <td>NaN</td>\n",
       "      <td>NaN</td>\n",
       "    </tr>\n",
       "    <tr>\n",
       "      <th>106</th>\n",
       "      <td>8.43</td>\n",
       "      <td>NaN</td>\n",
       "      <td>NaN</td>\n",
       "      <td>58.6</td>\n",
       "    </tr>\n",
       "    <tr>\n",
       "      <th>107</th>\n",
       "      <td>13.53</td>\n",
       "      <td>8.07</td>\n",
       "      <td>NaN</td>\n",
       "      <td>40.6</td>\n",
       "    </tr>\n",
       "    <tr>\n",
       "      <th>108</th>\n",
       "      <td>14.54</td>\n",
       "      <td>132.58</td>\n",
       "      <td>96.23</td>\n",
       "      <td>NaN</td>\n",
       "    </tr>\n",
       "    <tr>\n",
       "      <th>109</th>\n",
       "      <td>23.77</td>\n",
       "      <td>NaN</td>\n",
       "      <td>NaN</td>\n",
       "      <td>NaN</td>\n",
       "    </tr>\n",
       "    <tr>\n",
       "      <th>110</th>\n",
       "      <td>24.46</td>\n",
       "      <td>NaN</td>\n",
       "      <td>NaN</td>\n",
       "      <td>56.4</td>\n",
       "    </tr>\n",
       "    <tr>\n",
       "      <th>111</th>\n",
       "      <td>13.88</td>\n",
       "      <td>69.34</td>\n",
       "      <td>NaN</td>\n",
       "      <td>NaN</td>\n",
       "    </tr>\n",
       "    <tr>\n",
       "      <th>112</th>\n",
       "      <td>NaN</td>\n",
       "      <td>NaN</td>\n",
       "      <td>NaN</td>\n",
       "      <td>NaN</td>\n",
       "    </tr>\n",
       "    <tr>\n",
       "      <th>113</th>\n",
       "      <td>9.99</td>\n",
       "      <td>97.19</td>\n",
       "      <td>NaN</td>\n",
       "      <td>51.2</td>\n",
       "    </tr>\n",
       "    <tr>\n",
       "      <th>114</th>\n",
       "      <td>11.79</td>\n",
       "      <td>41.61</td>\n",
       "      <td>NaN</td>\n",
       "      <td>NaN</td>\n",
       "    </tr>\n",
       "    <tr>\n",
       "      <th>115</th>\n",
       "      <td>14.94</td>\n",
       "      <td>31.15</td>\n",
       "      <td>233.08</td>\n",
       "      <td>NaN</td>\n",
       "    </tr>\n",
       "    <tr>\n",
       "      <th>116</th>\n",
       "      <td>NaN</td>\n",
       "      <td>NaN</td>\n",
       "      <td>NaN</td>\n",
       "      <td>NaN</td>\n",
       "    </tr>\n",
       "    <tr>\n",
       "      <th>117</th>\n",
       "      <td>NaN</td>\n",
       "      <td>22.09</td>\n",
       "      <td>NaN</td>\n",
       "      <td>0.5</td>\n",
       "    </tr>\n",
       "    <tr>\n",
       "      <th>118</th>\n",
       "      <td>NaN</td>\n",
       "      <td>NaN</td>\n",
       "      <td>NaN</td>\n",
       "      <td>NaN</td>\n",
       "    </tr>\n",
       "    <tr>\n",
       "      <th>119</th>\n",
       "      <td>14.04</td>\n",
       "      <td>1.98</td>\n",
       "      <td>NaN</td>\n",
       "      <td>NaN</td>\n",
       "    </tr>\n",
       "  </tbody>\n",
       "</table>\n",
       "</div>"
      ],
      "text/plain": [
       "     Expenditure_per_student_primary  Market_value_of_listed_companies  \\\n",
       "100                              NaN                               NaN   \n",
       "101                             2.97                               NaN   \n",
       "102                            15.03                             31.82   \n",
       "103                            20.66                            140.20   \n",
       "104                             4.76                              3.14   \n",
       "105                              NaN                             11.11   \n",
       "106                             8.43                               NaN   \n",
       "107                            13.53                              8.07   \n",
       "108                            14.54                            132.58   \n",
       "109                            23.77                               NaN   \n",
       "110                            24.46                               NaN   \n",
       "111                            13.88                             69.34   \n",
       "112                              NaN                               NaN   \n",
       "113                             9.99                             97.19   \n",
       "114                            11.79                             41.61   \n",
       "115                            14.94                             31.15   \n",
       "116                              NaN                               NaN   \n",
       "117                              NaN                             22.09   \n",
       "118                              NaN                               NaN   \n",
       "119                            14.04                              1.98   \n",
       "\n",
       "     Electricity_generation  \\\n",
       "100                     NaN   \n",
       "101                     NaN   \n",
       "102                   14.78   \n",
       "103                     NaN   \n",
       "104                     NaN   \n",
       "105                     NaN   \n",
       "106                     NaN   \n",
       "107                     NaN   \n",
       "108                   96.23   \n",
       "109                     NaN   \n",
       "110                     NaN   \n",
       "111                     NaN   \n",
       "112                     NaN   \n",
       "113                     NaN   \n",
       "114                     NaN   \n",
       "115                  233.08   \n",
       "116                     NaN   \n",
       "117                     NaN   \n",
       "118                     NaN   \n",
       "119                     NaN   \n",
       "\n",
       "     Births attended by skilled health personnel difference highest lowest educational level of mother  \n",
       "100                                                NaN                                                  \n",
       "101                                                NaN                                                  \n",
       "102                                                NaN                                                  \n",
       "103                                                NaN                                                  \n",
       "104                                                NaN                                                  \n",
       "105                                                NaN                                                  \n",
       "106                                               58.6                                                  \n",
       "107                                               40.6                                                  \n",
       "108                                                NaN                                                  \n",
       "109                                                NaN                                                  \n",
       "110                                               56.4                                                  \n",
       "111                                                NaN                                                  \n",
       "112                                                NaN                                                  \n",
       "113                                               51.2                                                  \n",
       "114                                                NaN                                                  \n",
       "115                                                NaN                                                  \n",
       "116                                                NaN                                                  \n",
       "117                                                0.5                                                  \n",
       "118                                                NaN                                                  \n",
       "119                                                NaN                                                  "
      ]
     },
     "execution_count": 26,
     "metadata": {},
     "output_type": "execute_result"
    }
   ],
   "source": [
    "import numpy as np\n",
    "print(df_who.shape[1])\n",
    "cols = np.random.randint(0,df_who.shape[1],4)\n",
    "print(cols)\n",
    "\n",
    "df2 = df_who.iloc[100:120,cols]\n",
    "df2"
   ]
  },
  {
   "cell_type": "code",
   "execution_count": null,
   "metadata": {},
   "outputs": [],
   "source": []
  },
  {
   "cell_type": "markdown",
   "metadata": {},
   "source": [
    "**9) Selecciona totes les dades dels països que començen amb la lletra \"A\".**"
   ]
  },
  {
   "cell_type": "code",
   "execution_count": 27,
   "metadata": {},
   "outputs": [
    {
     "data": {
      "text/html": [
       "<div>\n",
       "<style scoped>\n",
       "    .dataframe tbody tr th:only-of-type {\n",
       "        vertical-align: middle;\n",
       "    }\n",
       "\n",
       "    .dataframe tbody tr th {\n",
       "        vertical-align: top;\n",
       "    }\n",
       "\n",
       "    .dataframe thead th {\n",
       "        text-align: right;\n",
       "    }\n",
       "</style>\n",
       "<table border=\"1\" class=\"dataframe\">\n",
       "  <thead>\n",
       "    <tr style=\"text-align: right;\">\n",
       "      <th></th>\n",
       "      <th>Country</th>\n",
       "      <th>CountryID</th>\n",
       "      <th>Continent</th>\n",
       "      <th>Adolescent fertility rate (%)</th>\n",
       "      <th>Adult literacy rate (%)</th>\n",
       "      <th>Gross national income per capita (PPP international $)</th>\n",
       "      <th>Net primary school enrolment ratio female (%)</th>\n",
       "      <th>Net primary school enrolment ratio male (%)</th>\n",
       "      <th>Population (in thousands) total</th>\n",
       "      <th>Population annual growth rate (%)</th>\n",
       "      <th>...</th>\n",
       "      <th>Total_CO2_emissions</th>\n",
       "      <th>Total_income</th>\n",
       "      <th>Total_reserves</th>\n",
       "      <th>Trade_balance_goods_and_services</th>\n",
       "      <th>Under_five_mortality_from_CME</th>\n",
       "      <th>Under_five_mortality_from_IHME</th>\n",
       "      <th>Under_five_mortality_rate</th>\n",
       "      <th>Urban_population</th>\n",
       "      <th>Urban_population_growth</th>\n",
       "      <th>Urban_population_pct_of_total</th>\n",
       "    </tr>\n",
       "  </thead>\n",
       "  <tbody>\n",
       "    <tr>\n",
       "      <th>0</th>\n",
       "      <td>Afghanistan</td>\n",
       "      <td>1</td>\n",
       "      <td>1</td>\n",
       "      <td>151.0</td>\n",
       "      <td>28.0</td>\n",
       "      <td>NaN</td>\n",
       "      <td>NaN</td>\n",
       "      <td>NaN</td>\n",
       "      <td>26088.0</td>\n",
       "      <td>4.0</td>\n",
       "      <td>...</td>\n",
       "      <td>692.50</td>\n",
       "      <td>NaN</td>\n",
       "      <td>NaN</td>\n",
       "      <td>NaN</td>\n",
       "      <td>257.00</td>\n",
       "      <td>231.9</td>\n",
       "      <td>257.00</td>\n",
       "      <td>5740436.00</td>\n",
       "      <td>5.44</td>\n",
       "      <td>22.9</td>\n",
       "    </tr>\n",
       "    <tr>\n",
       "      <th>1</th>\n",
       "      <td>Albania</td>\n",
       "      <td>2</td>\n",
       "      <td>2</td>\n",
       "      <td>27.0</td>\n",
       "      <td>98.7</td>\n",
       "      <td>6000.0</td>\n",
       "      <td>93.0</td>\n",
       "      <td>94.0</td>\n",
       "      <td>3172.0</td>\n",
       "      <td>0.6</td>\n",
       "      <td>...</td>\n",
       "      <td>3499.12</td>\n",
       "      <td>4.790000e+09</td>\n",
       "      <td>78.14</td>\n",
       "      <td>-2.040000e+09</td>\n",
       "      <td>18.47</td>\n",
       "      <td>15.5</td>\n",
       "      <td>18.47</td>\n",
       "      <td>1431793.90</td>\n",
       "      <td>2.21</td>\n",
       "      <td>45.4</td>\n",
       "    </tr>\n",
       "    <tr>\n",
       "      <th>2</th>\n",
       "      <td>Algeria</td>\n",
       "      <td>3</td>\n",
       "      <td>3</td>\n",
       "      <td>6.0</td>\n",
       "      <td>69.9</td>\n",
       "      <td>5940.0</td>\n",
       "      <td>94.0</td>\n",
       "      <td>96.0</td>\n",
       "      <td>33351.0</td>\n",
       "      <td>1.5</td>\n",
       "      <td>...</td>\n",
       "      <td>137535.56</td>\n",
       "      <td>6.970000e+10</td>\n",
       "      <td>351.36</td>\n",
       "      <td>4.700000e+09</td>\n",
       "      <td>40.00</td>\n",
       "      <td>31.2</td>\n",
       "      <td>40.00</td>\n",
       "      <td>20800000.00</td>\n",
       "      <td>2.61</td>\n",
       "      <td>63.3</td>\n",
       "    </tr>\n",
       "    <tr>\n",
       "      <th>3</th>\n",
       "      <td>Andorra</td>\n",
       "      <td>4</td>\n",
       "      <td>2</td>\n",
       "      <td>NaN</td>\n",
       "      <td>NaN</td>\n",
       "      <td>NaN</td>\n",
       "      <td>83.0</td>\n",
       "      <td>83.0</td>\n",
       "      <td>74.0</td>\n",
       "      <td>1.0</td>\n",
       "      <td>...</td>\n",
       "      <td>NaN</td>\n",
       "      <td>NaN</td>\n",
       "      <td>NaN</td>\n",
       "      <td>NaN</td>\n",
       "      <td>NaN</td>\n",
       "      <td>NaN</td>\n",
       "      <td>NaN</td>\n",
       "      <td>NaN</td>\n",
       "      <td>NaN</td>\n",
       "      <td>NaN</td>\n",
       "    </tr>\n",
       "    <tr>\n",
       "      <th>4</th>\n",
       "      <td>Angola</td>\n",
       "      <td>5</td>\n",
       "      <td>3</td>\n",
       "      <td>146.0</td>\n",
       "      <td>67.4</td>\n",
       "      <td>3890.0</td>\n",
       "      <td>49.0</td>\n",
       "      <td>51.0</td>\n",
       "      <td>16557.0</td>\n",
       "      <td>2.8</td>\n",
       "      <td>...</td>\n",
       "      <td>8991.46</td>\n",
       "      <td>1.490000e+10</td>\n",
       "      <td>27.13</td>\n",
       "      <td>9.140000e+09</td>\n",
       "      <td>164.10</td>\n",
       "      <td>242.5</td>\n",
       "      <td>164.10</td>\n",
       "      <td>8578749.00</td>\n",
       "      <td>4.14</td>\n",
       "      <td>53.3</td>\n",
       "    </tr>\n",
       "    <tr>\n",
       "      <th>5</th>\n",
       "      <td>Antigua and Barbuda</td>\n",
       "      <td>6</td>\n",
       "      <td>4</td>\n",
       "      <td>NaN</td>\n",
       "      <td>NaN</td>\n",
       "      <td>15130.0</td>\n",
       "      <td>NaN</td>\n",
       "      <td>NaN</td>\n",
       "      <td>84.0</td>\n",
       "      <td>1.3</td>\n",
       "      <td>...</td>\n",
       "      <td>421.36</td>\n",
       "      <td>8.300000e+08</td>\n",
       "      <td>NaN</td>\n",
       "      <td>-1.020000e+08</td>\n",
       "      <td>12.60</td>\n",
       "      <td>NaN</td>\n",
       "      <td>12.60</td>\n",
       "      <td>32468.25</td>\n",
       "      <td>2.25</td>\n",
       "      <td>39.1</td>\n",
       "    </tr>\n",
       "    <tr>\n",
       "      <th>6</th>\n",
       "      <td>Argentina</td>\n",
       "      <td>7</td>\n",
       "      <td>5</td>\n",
       "      <td>62.0</td>\n",
       "      <td>97.2</td>\n",
       "      <td>11670.0</td>\n",
       "      <td>98.0</td>\n",
       "      <td>99.0</td>\n",
       "      <td>39134.0</td>\n",
       "      <td>1.0</td>\n",
       "      <td>...</td>\n",
       "      <td>152711.86</td>\n",
       "      <td>3.140000e+11</td>\n",
       "      <td>21.11</td>\n",
       "      <td>1.190000e+10</td>\n",
       "      <td>18.10</td>\n",
       "      <td>16.7</td>\n",
       "      <td>18.10</td>\n",
       "      <td>34900000.00</td>\n",
       "      <td>1.17</td>\n",
       "      <td>90.1</td>\n",
       "    </tr>\n",
       "    <tr>\n",
       "      <th>7</th>\n",
       "      <td>Armenia</td>\n",
       "      <td>8</td>\n",
       "      <td>2</td>\n",
       "      <td>30.0</td>\n",
       "      <td>99.4</td>\n",
       "      <td>4950.0</td>\n",
       "      <td>84.0</td>\n",
       "      <td>80.0</td>\n",
       "      <td>3010.0</td>\n",
       "      <td>-0.3</td>\n",
       "      <td>...</td>\n",
       "      <td>4345.50</td>\n",
       "      <td>3.400000e+09</td>\n",
       "      <td>35.98</td>\n",
       "      <td>-6.470000e+08</td>\n",
       "      <td>28.80</td>\n",
       "      <td>27.7</td>\n",
       "      <td>28.80</td>\n",
       "      <td>1934320.80</td>\n",
       "      <td>-0.62</td>\n",
       "      <td>64.1</td>\n",
       "    </tr>\n",
       "    <tr>\n",
       "      <th>8</th>\n",
       "      <td>Australia</td>\n",
       "      <td>9</td>\n",
       "      <td>6</td>\n",
       "      <td>16.0</td>\n",
       "      <td>NaN</td>\n",
       "      <td>33940.0</td>\n",
       "      <td>97.0</td>\n",
       "      <td>96.0</td>\n",
       "      <td>20530.0</td>\n",
       "      <td>1.1</td>\n",
       "      <td>...</td>\n",
       "      <td>368858.53</td>\n",
       "      <td>4.680000e+11</td>\n",
       "      <td>NaN</td>\n",
       "      <td>-1.280000e+10</td>\n",
       "      <td>5.90</td>\n",
       "      <td>5.1</td>\n",
       "      <td>5.90</td>\n",
       "      <td>18000000.00</td>\n",
       "      <td>1.54</td>\n",
       "      <td>88.2</td>\n",
       "    </tr>\n",
       "    <tr>\n",
       "      <th>9</th>\n",
       "      <td>Austria</td>\n",
       "      <td>10</td>\n",
       "      <td>2</td>\n",
       "      <td>14.0</td>\n",
       "      <td>NaN</td>\n",
       "      <td>36040.0</td>\n",
       "      <td>98.0</td>\n",
       "      <td>97.0</td>\n",
       "      <td>8327.0</td>\n",
       "      <td>0.4</td>\n",
       "      <td>...</td>\n",
       "      <td>73602.43</td>\n",
       "      <td>2.090000e+11</td>\n",
       "      <td>NaN</td>\n",
       "      <td>8.240000e+09</td>\n",
       "      <td>5.10</td>\n",
       "      <td>4.3</td>\n",
       "      <td>5.10</td>\n",
       "      <td>5433978.00</td>\n",
       "      <td>0.77</td>\n",
       "      <td>66.0</td>\n",
       "    </tr>\n",
       "    <tr>\n",
       "      <th>10</th>\n",
       "      <td>Azerbaijan</td>\n",
       "      <td>11</td>\n",
       "      <td>2</td>\n",
       "      <td>31.0</td>\n",
       "      <td>98.8</td>\n",
       "      <td>5430.0</td>\n",
       "      <td>83.0</td>\n",
       "      <td>86.0</td>\n",
       "      <td>8406.0</td>\n",
       "      <td>0.6</td>\n",
       "      <td>...</td>\n",
       "      <td>36629.01</td>\n",
       "      <td>9.930000e+09</td>\n",
       "      <td>64.89</td>\n",
       "      <td>1.330000e+09</td>\n",
       "      <td>50.00</td>\n",
       "      <td>63.7</td>\n",
       "      <td>50.00</td>\n",
       "      <td>4321803.00</td>\n",
       "      <td>1.26</td>\n",
       "      <td>51.5</td>\n",
       "    </tr>\n",
       "  </tbody>\n",
       "</table>\n",
       "<p>11 rows × 358 columns</p>\n",
       "</div>"
      ],
      "text/plain": [
       "                Country  CountryID  Continent  Adolescent fertility rate (%)  \\\n",
       "0           Afghanistan          1          1                          151.0   \n",
       "1               Albania          2          2                           27.0   \n",
       "2               Algeria          3          3                            6.0   \n",
       "3               Andorra          4          2                            NaN   \n",
       "4                Angola          5          3                          146.0   \n",
       "5   Antigua and Barbuda          6          4                            NaN   \n",
       "6             Argentina          7          5                           62.0   \n",
       "7               Armenia          8          2                           30.0   \n",
       "8             Australia          9          6                           16.0   \n",
       "9               Austria         10          2                           14.0   \n",
       "10           Azerbaijan         11          2                           31.0   \n",
       "\n",
       "    Adult literacy rate (%)  \\\n",
       "0                      28.0   \n",
       "1                      98.7   \n",
       "2                      69.9   \n",
       "3                       NaN   \n",
       "4                      67.4   \n",
       "5                       NaN   \n",
       "6                      97.2   \n",
       "7                      99.4   \n",
       "8                       NaN   \n",
       "9                       NaN   \n",
       "10                     98.8   \n",
       "\n",
       "    Gross national income per capita (PPP international $)  \\\n",
       "0                                                 NaN        \n",
       "1                                              6000.0        \n",
       "2                                              5940.0        \n",
       "3                                                 NaN        \n",
       "4                                              3890.0        \n",
       "5                                             15130.0        \n",
       "6                                             11670.0        \n",
       "7                                              4950.0        \n",
       "8                                             33940.0        \n",
       "9                                             36040.0        \n",
       "10                                             5430.0        \n",
       "\n",
       "    Net primary school enrolment ratio female (%)  \\\n",
       "0                                             NaN   \n",
       "1                                            93.0   \n",
       "2                                            94.0   \n",
       "3                                            83.0   \n",
       "4                                            49.0   \n",
       "5                                             NaN   \n",
       "6                                            98.0   \n",
       "7                                            84.0   \n",
       "8                                            97.0   \n",
       "9                                            98.0   \n",
       "10                                           83.0   \n",
       "\n",
       "    Net primary school enrolment ratio male (%)  \\\n",
       "0                                           NaN   \n",
       "1                                          94.0   \n",
       "2                                          96.0   \n",
       "3                                          83.0   \n",
       "4                                          51.0   \n",
       "5                                           NaN   \n",
       "6                                          99.0   \n",
       "7                                          80.0   \n",
       "8                                          96.0   \n",
       "9                                          97.0   \n",
       "10                                         86.0   \n",
       "\n",
       "    Population (in thousands) total  Population annual growth rate (%)  ...  \\\n",
       "0                           26088.0                                4.0  ...   \n",
       "1                            3172.0                                0.6  ...   \n",
       "2                           33351.0                                1.5  ...   \n",
       "3                              74.0                                1.0  ...   \n",
       "4                           16557.0                                2.8  ...   \n",
       "5                              84.0                                1.3  ...   \n",
       "6                           39134.0                                1.0  ...   \n",
       "7                            3010.0                               -0.3  ...   \n",
       "8                           20530.0                                1.1  ...   \n",
       "9                            8327.0                                0.4  ...   \n",
       "10                           8406.0                                0.6  ...   \n",
       "\n",
       "    Total_CO2_emissions  Total_income  Total_reserves  \\\n",
       "0                692.50           NaN             NaN   \n",
       "1               3499.12  4.790000e+09           78.14   \n",
       "2             137535.56  6.970000e+10          351.36   \n",
       "3                   NaN           NaN             NaN   \n",
       "4               8991.46  1.490000e+10           27.13   \n",
       "5                421.36  8.300000e+08             NaN   \n",
       "6             152711.86  3.140000e+11           21.11   \n",
       "7               4345.50  3.400000e+09           35.98   \n",
       "8             368858.53  4.680000e+11             NaN   \n",
       "9              73602.43  2.090000e+11             NaN   \n",
       "10             36629.01  9.930000e+09           64.89   \n",
       "\n",
       "    Trade_balance_goods_and_services  Under_five_mortality_from_CME  \\\n",
       "0                                NaN                         257.00   \n",
       "1                      -2.040000e+09                          18.47   \n",
       "2                       4.700000e+09                          40.00   \n",
       "3                                NaN                            NaN   \n",
       "4                       9.140000e+09                         164.10   \n",
       "5                      -1.020000e+08                          12.60   \n",
       "6                       1.190000e+10                          18.10   \n",
       "7                      -6.470000e+08                          28.80   \n",
       "8                      -1.280000e+10                           5.90   \n",
       "9                       8.240000e+09                           5.10   \n",
       "10                      1.330000e+09                          50.00   \n",
       "\n",
       "    Under_five_mortality_from_IHME  Under_five_mortality_rate  \\\n",
       "0                            231.9                     257.00   \n",
       "1                             15.5                      18.47   \n",
       "2                             31.2                      40.00   \n",
       "3                              NaN                        NaN   \n",
       "4                            242.5                     164.10   \n",
       "5                              NaN                      12.60   \n",
       "6                             16.7                      18.10   \n",
       "7                             27.7                      28.80   \n",
       "8                              5.1                       5.90   \n",
       "9                              4.3                       5.10   \n",
       "10                            63.7                      50.00   \n",
       "\n",
       "    Urban_population  Urban_population_growth  Urban_population_pct_of_total  \n",
       "0         5740436.00                     5.44                           22.9  \n",
       "1         1431793.90                     2.21                           45.4  \n",
       "2        20800000.00                     2.61                           63.3  \n",
       "3                NaN                      NaN                            NaN  \n",
       "4         8578749.00                     4.14                           53.3  \n",
       "5           32468.25                     2.25                           39.1  \n",
       "6        34900000.00                     1.17                           90.1  \n",
       "7         1934320.80                    -0.62                           64.1  \n",
       "8        18000000.00                     1.54                           88.2  \n",
       "9         5433978.00                     0.77                           66.0  \n",
       "10        4321803.00                     1.26                           51.5  \n",
       "\n",
       "[11 rows x 358 columns]"
      ]
     },
     "execution_count": 27,
     "metadata": {},
     "output_type": "execute_result"
    }
   ],
   "source": [
    "df_who[df_who.Country.str.startswith(\"A\")]"
   ]
  },
  {
   "cell_type": "markdown",
   "metadata": {},
   "source": [
    "**6b) Amb el diccionari de codi i nom de continent (activitat 6) transforma aquesta sèrie numèrica de codis en una sèrie més descriptiva que contengui el nom del continent (pista: transform(), map() o apply())**"
   ]
  },
  {
   "cell_type": "code",
   "execution_count": 28,
   "metadata": {},
   "outputs": [
    {
     "name": "stdout",
     "output_type": "stream",
     "text": [
      "0      1\n",
      "1      2\n",
      "2      3\n",
      "3      2\n",
      "4      3\n",
      "      ..\n",
      "197    6\n",
      "198    1\n",
      "199    1\n",
      "200    3\n",
      "201    3\n",
      "Name: Continent, Length: 202, dtype: int64\n",
      "0       Africa\n",
      "1       Europa\n",
      "2       Africa\n",
      "3       Europa\n",
      "4       Africa\n",
      "        ...   \n",
      "197    Oceania\n",
      "198     Africa\n",
      "199     Africa\n",
      "200     Africa\n",
      "201     Africa\n",
      "Name: Continent, Length: 202, dtype: object\n"
     ]
    }
   ],
   "source": [
    "continents = df_who.Continent\n",
    "print(continents)\n",
    "\n",
    "name_continents = continents.map(codigoContinentes)\n",
    "print(name_continents)"
   ]
  },
  {
   "attachments": {},
   "cell_type": "markdown",
   "metadata": {},
   "source": [
    "[![License: CC BY 4.0](https://img.shields.io/badge/License-CC_BY_4.0-lightgrey.svg)](https://creativecommons.org/licenses/by/4.0/) <br/>\n",
    "Isaac Lera and Gabriel Moya <br/>\n",
    "Universitat de les Illes Balears <br/>\n",
    "isaac.lera@uib.edu, gabriel.moya@uib.edu"
   ]
  },
  {
   "cell_type": "markdown",
   "metadata": {},
   "source": []
  },
  {
   "cell_type": "markdown",
   "metadata": {},
   "source": [
    "#### Annex Activitat 1: proposta d'estructura del dataframe per l'activitat 1"
   ]
  },
  {
   "cell_type": "code",
   "execution_count": 130,
   "metadata": {},
   "outputs": [
    {
     "data": {
      "text/html": [
       "<div>\n",
       "<style scoped>\n",
       "    .dataframe tbody tr th:only-of-type {\n",
       "        vertical-align: middle;\n",
       "    }\n",
       "\n",
       "    .dataframe tbody tr th {\n",
       "        vertical-align: top;\n",
       "    }\n",
       "\n",
       "    .dataframe thead th {\n",
       "        text-align: right;\n",
       "    }\n",
       "</style>\n",
       "<table border=\"1\" class=\"dataframe\">\n",
       "  <thead>\n",
       "    <tr style=\"text-align: right;\">\n",
       "      <th></th>\n",
       "      <th>producte</th>\n",
       "      <th>preu</th>\n",
       "      <th>data</th>\n",
       "    </tr>\n",
       "  </thead>\n",
       "  <tbody>\n",
       "    <tr>\n",
       "      <th>0</th>\n",
       "      <td>cebes</td>\n",
       "      <td>30.30</td>\n",
       "      <td>2024-01-07</td>\n",
       "    </tr>\n",
       "    <tr>\n",
       "      <th>1</th>\n",
       "      <td>cebes</td>\n",
       "      <td>20.30</td>\n",
       "      <td>2024-01-08</td>\n",
       "    </tr>\n",
       "    <tr>\n",
       "      <th>2</th>\n",
       "      <td>cebes</td>\n",
       "      <td>25.90</td>\n",
       "      <td>2024-01-09</td>\n",
       "    </tr>\n",
       "    <tr>\n",
       "      <th>3</th>\n",
       "      <td>cebes</td>\n",
       "      <td>39.00</td>\n",
       "      <td>2024-01-10</td>\n",
       "    </tr>\n",
       "    <tr>\n",
       "      <th>4</th>\n",
       "      <td>patates</td>\n",
       "      <td>0.33</td>\n",
       "      <td>2024-01-07</td>\n",
       "    </tr>\n",
       "    <tr>\n",
       "      <th>5</th>\n",
       "      <td>patates</td>\n",
       "      <td>0.43</td>\n",
       "      <td>2024-01-08</td>\n",
       "    </tr>\n",
       "    <tr>\n",
       "      <th>6</th>\n",
       "      <td>patates</td>\n",
       "      <td>0.34</td>\n",
       "      <td>2024-01-09</td>\n",
       "    </tr>\n",
       "    <tr>\n",
       "      <th>7</th>\n",
       "      <td>patates</td>\n",
       "      <td>0.12</td>\n",
       "      <td>2024-01-10</td>\n",
       "    </tr>\n",
       "    <tr>\n",
       "      <th>8</th>\n",
       "      <td>taronges</td>\n",
       "      <td>0.45</td>\n",
       "      <td>2024-01-07</td>\n",
       "    </tr>\n",
       "    <tr>\n",
       "      <th>9</th>\n",
       "      <td>taronges</td>\n",
       "      <td>0.56</td>\n",
       "      <td>2024-01-08</td>\n",
       "    </tr>\n",
       "    <tr>\n",
       "      <th>10</th>\n",
       "      <td>taronges</td>\n",
       "      <td>0.38</td>\n",
       "      <td>2024-01-09</td>\n",
       "    </tr>\n",
       "    <tr>\n",
       "      <th>11</th>\n",
       "      <td>taronges</td>\n",
       "      <td>0.43</td>\n",
       "      <td>2024-01-10</td>\n",
       "    </tr>\n",
       "  </tbody>\n",
       "</table>\n",
       "</div>"
      ],
      "text/plain": [
       "    producte   preu       data\n",
       "0      cebes  30.30 2024-01-07\n",
       "1      cebes  20.30 2024-01-08\n",
       "2      cebes  25.90 2024-01-09\n",
       "3      cebes  39.00 2024-01-10\n",
       "4    patates   0.33 2024-01-07\n",
       "5    patates   0.43 2024-01-08\n",
       "6    patates   0.34 2024-01-09\n",
       "7    patates   0.12 2024-01-10\n",
       "8   taronges   0.45 2024-01-07\n",
       "9   taronges   0.56 2024-01-08\n",
       "10  taronges   0.38 2024-01-09\n",
       "11  taronges   0.43 2024-01-10"
      ]
     },
     "execution_count": 130,
     "metadata": {},
     "output_type": "execute_result"
    }
   ],
   "source": [
    "import pandas as pd\n",
    "preus = np.array(\n",
    "        [ #Dia0, Dia1, Dia2, Dia3\n",
    "          [30.3, 20.3, 25.9, 39.0], # Cebes, preus per cèntims/kg \n",
    "          [0.33, 0.43, 0.34, 0.12], # Patates, euro/kg\n",
    "          [0.45, 0.56, 0.38, 0.43] # Taronges euro/kg\n",
    "])\n",
    "productes = np.array([[\"cebes\"]*preus.shape[1],[\"patates\"]*preus.shape[1],[\"taronges\"]*preus.shape[1]]).flatten()\n",
    "dates = np.tile(pd.date_range(\"2024-01-07\", periods=preus.shape[1], freq=\"d\").to_numpy(),preus.shape[0])\n",
    "\n",
    "df_preus = pd.DataFrame(dict({\"producte\":productes,\"preu\":preus.flatten(),\"data\":dates}))\n",
    "df_preus"
   ]
  },
  {
   "cell_type": "code",
   "execution_count": 124,
   "metadata": {},
   "outputs": [
    {
     "data": {
      "text/html": [
       "<div>\n",
       "<style scoped>\n",
       "    .dataframe tbody tr th:only-of-type {\n",
       "        vertical-align: middle;\n",
       "    }\n",
       "\n",
       "    .dataframe tbody tr th {\n",
       "        vertical-align: top;\n",
       "    }\n",
       "\n",
       "    .dataframe thead tr th {\n",
       "        text-align: left;\n",
       "    }\n",
       "\n",
       "    .dataframe thead tr:last-of-type th {\n",
       "        text-align: right;\n",
       "    }\n",
       "</style>\n",
       "<table border=\"1\" class=\"dataframe\">\n",
       "  <thead>\n",
       "    <tr>\n",
       "      <th></th>\n",
       "      <th colspan=\"4\" halign=\"left\">preu</th>\n",
       "    </tr>\n",
       "    <tr>\n",
       "      <th>data</th>\n",
       "      <th>2024-01-07</th>\n",
       "      <th>2024-01-08</th>\n",
       "      <th>2024-01-09</th>\n",
       "      <th>2024-01-10</th>\n",
       "    </tr>\n",
       "    <tr>\n",
       "      <th>producte</th>\n",
       "      <th></th>\n",
       "      <th></th>\n",
       "      <th></th>\n",
       "      <th></th>\n",
       "    </tr>\n",
       "  </thead>\n",
       "  <tbody>\n",
       "    <tr>\n",
       "      <th>cebes</th>\n",
       "      <td>30.30</td>\n",
       "      <td>20.30</td>\n",
       "      <td>25.90</td>\n",
       "      <td>39.00</td>\n",
       "    </tr>\n",
       "    <tr>\n",
       "      <th>patates</th>\n",
       "      <td>0.33</td>\n",
       "      <td>0.43</td>\n",
       "      <td>0.34</td>\n",
       "      <td>0.12</td>\n",
       "    </tr>\n",
       "    <tr>\n",
       "      <th>taronges</th>\n",
       "      <td>0.45</td>\n",
       "      <td>0.56</td>\n",
       "      <td>0.38</td>\n",
       "      <td>0.43</td>\n",
       "    </tr>\n",
       "  </tbody>\n",
       "</table>\n",
       "</div>"
      ],
      "text/plain": [
       "               preu                                 \n",
       "data     2024-01-07 2024-01-08 2024-01-09 2024-01-10\n",
       "producte                                            \n",
       "cebes         30.30      20.30      25.90      39.00\n",
       "patates        0.33       0.43       0.34       0.12\n",
       "taronges       0.45       0.56       0.38       0.43"
      ]
     },
     "execution_count": 124,
     "metadata": {},
     "output_type": "execute_result"
    }
   ],
   "source": [
    "### Per si de cas...\n",
    "# ref: https://pandas.pydata.org/pandas-docs/stable/reference/api/pandas.pivot_table.html\n",
    "df_tmp = pd.pivot_table(df_preus,index=\"producte\",columns=\"data\")\n",
    "df_tmp"
   ]
  },
  {
   "cell_type": "code",
   "execution_count": 128,
   "metadata": {},
   "outputs": [
    {
     "data": {
      "text/plain": [
       "array([[30.3 , 20.3 , 25.9 , 39.  ],\n",
       "       [ 0.33,  0.43,  0.34,  0.12],\n",
       "       [ 0.45,  0.56,  0.38,  0.43]])"
      ]
     },
     "execution_count": 128,
     "metadata": {},
     "output_type": "execute_result"
    }
   ],
   "source": [
    "df_tmp.values"
   ]
  },
  {
   "cell_type": "markdown",
   "metadata": {},
   "source": []
  }
 ],
 "metadata": {
  "kernelspec": {
   "display_name": "Python 3.9.7 64-bit ('3.9.7')",
   "language": "python",
   "name": "python3"
  },
  "language_info": {
   "codemirror_mode": {
    "name": "ipython",
    "version": 3
   },
   "file_extension": ".py",
   "mimetype": "text/x-python",
   "name": "python",
   "nbconvert_exporter": "python",
   "pygments_lexer": "ipython3",
   "version": "3.11.0rc2"
  },
  "orig_nbformat": 4,
  "vscode": {
   "interpreter": {
    "hash": "1dd6de46b7c7be538353ccdeaa948031a5b4d43665739a26f55ca28b247c53cc"
   }
  }
 },
 "nbformat": 4,
 "nbformat_minor": 2
}
